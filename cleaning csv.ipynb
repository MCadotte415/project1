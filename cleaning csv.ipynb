{
 "cells": [
  {
   "cell_type": "code",
   "execution_count": 2,
   "id": "b62e43d4",
   "metadata": {},
   "outputs": [],
   "source": [
    "import pandas as pd"
   ]
  },
  {
   "cell_type": "code",
   "execution_count": 3,
   "id": "c7576f78",
   "metadata": {},
   "outputs": [],
   "source": [
    "file = 'Resources/jobss.csv'"
   ]
  },
  {
   "cell_type": "code",
   "execution_count": 4,
   "id": "89d248ec",
   "metadata": {},
   "outputs": [],
   "source": [
    "df = pd.read_csv(file, encoding=\"ISO-8859-1\")"
   ]
  },
  {
   "cell_type": "code",
   "execution_count": 5,
   "id": "3dbfe2bf",
   "metadata": {},
   "outputs": [
    {
     "data": {
      "text/html": [
       "<div>\n",
       "<style scoped>\n",
       "    .dataframe tbody tr th:only-of-type {\n",
       "        vertical-align: middle;\n",
       "    }\n",
       "\n",
       "    .dataframe tbody tr th {\n",
       "        vertical-align: top;\n",
       "    }\n",
       "\n",
       "    .dataframe thead th {\n",
       "        text-align: right;\n",
       "    }\n",
       "</style>\n",
       "<table border=\"1\" class=\"dataframe\">\n",
       "  <thead>\n",
       "    <tr style=\"text-align: right;\">\n",
       "      <th></th>\n",
       "      <th>Job Title</th>\n",
       "      <th>Unnamed: 1</th>\n",
       "      <th>Job Experience Required</th>\n",
       "      <th>Key Skills</th>\n",
       "      <th>Role Category</th>\n",
       "      <th>Location</th>\n",
       "      <th>Functional Area</th>\n",
       "      <th>Industry</th>\n",
       "      <th>Role</th>\n",
       "      <th>Longitude</th>\n",
       "      <th>Latitude</th>\n",
       "      <th>sal</th>\n",
       "    </tr>\n",
       "  </thead>\n",
       "  <tbody>\n",
       "    <tr>\n",
       "      <th>0</th>\n",
       "      <td>Digital Media Planner</td>\n",
       "      <td>NaN</td>\n",
       "      <td>5 - 10 yrs</td>\n",
       "      <td>Media Planning| Digital Media</td>\n",
       "      <td>Advertising</td>\n",
       "      <td>Mumbai</td>\n",
       "      <td>Marketing , Advertising , MR , PR , Media Plan...</td>\n",
       "      <td>Advertising, PR, MR, Event Management</td>\n",
       "      <td>Media Planning Executive/Manager</td>\n",
       "      <td>72.877393</td>\n",
       "      <td>19.075990</td>\n",
       "      <td>3855</td>\n",
       "    </tr>\n",
       "    <tr>\n",
       "      <th>1</th>\n",
       "      <td>Online Bidding Executive</td>\n",
       "      <td>NaN</td>\n",
       "      <td>2 - 5 yrs</td>\n",
       "      <td>pre sales| closing| software knowledge| clien...</td>\n",
       "      <td>Retail Sales</td>\n",
       "      <td>Pune,Pune</td>\n",
       "      <td>Sales , Retail , Business Development</td>\n",
       "      <td>IT-Software, Software Services</td>\n",
       "      <td>Sales Executive/Officer</td>\n",
       "      <td>73.854454</td>\n",
       "      <td>18.521428</td>\n",
       "      <td>2639</td>\n",
       "    </tr>\n",
       "    <tr>\n",
       "      <th>2</th>\n",
       "      <td>Trainee Research/ Research Executive- Hi- Tec...</td>\n",
       "      <td>NaN</td>\n",
       "      <td>0 - 1 yrs</td>\n",
       "      <td>Computer science| Fabrication| Quality check|...</td>\n",
       "      <td>R&amp;D</td>\n",
       "      <td>Gurgaon</td>\n",
       "      <td>Engineering Design , R&amp;D</td>\n",
       "      <td>Recruitment, Staffing</td>\n",
       "      <td>R&amp;D Executive</td>\n",
       "      <td>77.002700</td>\n",
       "      <td>28.428262</td>\n",
       "      <td>2156</td>\n",
       "    </tr>\n",
       "    <tr>\n",
       "      <th>3</th>\n",
       "      <td>Technical Support</td>\n",
       "      <td>NaN</td>\n",
       "      <td>0 - 5 yrs</td>\n",
       "      <td>Technical Support</td>\n",
       "      <td>Admin/Maintenance/Security/Datawarehousing</td>\n",
       "      <td>Mumbai</td>\n",
       "      <td>IT Software - Application Programming , Mainte...</td>\n",
       "      <td>IT-Software, Software Services</td>\n",
       "      <td>Technical Support Engineer</td>\n",
       "      <td>72.877393</td>\n",
       "      <td>19.075990</td>\n",
       "      <td>4059</td>\n",
       "    </tr>\n",
       "    <tr>\n",
       "      <th>4</th>\n",
       "      <td>Software Test Engineer -hyderabad</td>\n",
       "      <td>NaN</td>\n",
       "      <td>2 - 5 yrs</td>\n",
       "      <td>manual testing| test engineering| test cases|...</td>\n",
       "      <td>Programming &amp; Design</td>\n",
       "      <td>Hyderabad</td>\n",
       "      <td>IT Software - QA &amp; Testing</td>\n",
       "      <td>IT-Software, Software Services</td>\n",
       "      <td>Testing Engineer</td>\n",
       "      <td>78.474061</td>\n",
       "      <td>17.360589</td>\n",
       "      <td>5347</td>\n",
       "    </tr>\n",
       "  </tbody>\n",
       "</table>\n",
       "</div>"
      ],
      "text/plain": [
       "                                           Job Title  Unnamed: 1  \\\n",
       "0                              Digital Media Planner         NaN   \n",
       "1                           Online Bidding Executive         NaN   \n",
       "2   Trainee Research/ Research Executive- Hi- Tec...         NaN   \n",
       "3                                  Technical Support         NaN   \n",
       "4                  Software Test Engineer -hyderabad         NaN   \n",
       "\n",
       "  Job Experience Required                                         Key Skills  \\\n",
       "0              5 - 10 yrs                      Media Planning| Digital Media   \n",
       "1               2 - 5 yrs   pre sales| closing| software knowledge| clien...   \n",
       "2               0 - 1 yrs   Computer science| Fabrication| Quality check|...   \n",
       "3               0 - 5 yrs                                  Technical Support   \n",
       "4               2 - 5 yrs   manual testing| test engineering| test cases|...   \n",
       "\n",
       "                                Role Category   Location  \\\n",
       "0                                 Advertising     Mumbai   \n",
       "1                                Retail Sales  Pune,Pune   \n",
       "2                                         R&D    Gurgaon   \n",
       "3  Admin/Maintenance/Security/Datawarehousing     Mumbai   \n",
       "4                        Programming & Design  Hyderabad   \n",
       "\n",
       "                                     Functional Area  \\\n",
       "0  Marketing , Advertising , MR , PR , Media Plan...   \n",
       "1              Sales , Retail , Business Development   \n",
       "2                           Engineering Design , R&D   \n",
       "3  IT Software - Application Programming , Mainte...   \n",
       "4                         IT Software - QA & Testing   \n",
       "\n",
       "                                Industry                              Role  \\\n",
       "0  Advertising, PR, MR, Event Management  Media Planning Executive/Manager   \n",
       "1         IT-Software, Software Services           Sales Executive/Officer   \n",
       "2                  Recruitment, Staffing                     R&D Executive   \n",
       "3         IT-Software, Software Services        Technical Support Engineer   \n",
       "4         IT-Software, Software Services                  Testing Engineer   \n",
       "\n",
       "   Longitude   Latitude   sal  \n",
       "0  72.877393  19.075990  3855  \n",
       "1  73.854454  18.521428  2639  \n",
       "2  77.002700  28.428262  2156  \n",
       "3  72.877393  19.075990  4059  \n",
       "4  78.474061  17.360589  5347  "
      ]
     },
     "execution_count": 5,
     "metadata": {},
     "output_type": "execute_result"
    }
   ],
   "source": [
    "df.head()"
   ]
  },
  {
   "cell_type": "code",
   "execution_count": 6,
   "id": "b431fa4f",
   "metadata": {},
   "outputs": [
    {
     "data": {
      "text/plain": [
       "Job Title                  489\n",
       "Unnamed: 1                   0\n",
       "Job Experience Required    500\n",
       "Key Skills                 500\n",
       "Role Category              463\n",
       "Location                   489\n",
       "Functional Area            489\n",
       "Industry                   489\n",
       "Role                       486\n",
       "Longitude                  473\n",
       "Latitude                   473\n",
       "sal                        500\n",
       "dtype: int64"
      ]
     },
     "execution_count": 6,
     "metadata": {},
     "output_type": "execute_result"
    }
   ],
   "source": [
    "df.count()"
   ]
  },
  {
   "cell_type": "code",
   "execution_count": 7,
   "id": "a7e58a8e",
   "metadata": {},
   "outputs": [],
   "source": [
    "del df['Unnamed: 1']"
   ]
  },
  {
   "cell_type": "code",
   "execution_count": 8,
   "id": "b9b20b44",
   "metadata": {},
   "outputs": [],
   "source": [
    "del df['Key Skills']"
   ]
  },
  {
   "cell_type": "code",
   "execution_count": 9,
   "id": "4db62c4f",
   "metadata": {},
   "outputs": [],
   "source": [
    "del df['Role Category']"
   ]
  },
  {
   "cell_type": "code",
   "execution_count": 10,
   "id": "58fc4c65",
   "metadata": {},
   "outputs": [
    {
     "data": {
      "text/plain": [
       "Job Title                  489\n",
       "Job Experience Required    500\n",
       "Location                   489\n",
       "Functional Area            489\n",
       "Industry                   489\n",
       "Role                       486\n",
       "Longitude                  473\n",
       "Latitude                   473\n",
       "sal                        500\n",
       "dtype: int64"
      ]
     },
     "execution_count": 10,
     "metadata": {},
     "output_type": "execute_result"
    }
   ],
   "source": [
    "df.count()"
   ]
  },
  {
   "cell_type": "code",
   "execution_count": 11,
   "id": "119b040e",
   "metadata": {},
   "outputs": [],
   "source": [
    "df = df.dropna(how='any')"
   ]
  },
  {
   "cell_type": "code",
   "execution_count": 12,
   "id": "0eb27c78",
   "metadata": {},
   "outputs": [
    {
     "data": {
      "text/plain": [
       "Job Title                  459\n",
       "Job Experience Required    459\n",
       "Location                   459\n",
       "Functional Area            459\n",
       "Industry                   459\n",
       "Role                       459\n",
       "Longitude                  459\n",
       "Latitude                   459\n",
       "sal                        459\n",
       "dtype: int64"
      ]
     },
     "execution_count": 12,
     "metadata": {},
     "output_type": "execute_result"
    }
   ],
   "source": [
    "df.count()"
   ]
  },
  {
   "cell_type": "code",
   "execution_count": 13,
   "id": "614d8779",
   "metadata": {},
   "outputs": [
    {
     "data": {
      "text/html": [
       "<div>\n",
       "<style scoped>\n",
       "    .dataframe tbody tr th:only-of-type {\n",
       "        vertical-align: middle;\n",
       "    }\n",
       "\n",
       "    .dataframe tbody tr th {\n",
       "        vertical-align: top;\n",
       "    }\n",
       "\n",
       "    .dataframe thead th {\n",
       "        text-align: right;\n",
       "    }\n",
       "</style>\n",
       "<table border=\"1\" class=\"dataframe\">\n",
       "  <thead>\n",
       "    <tr style=\"text-align: right;\">\n",
       "      <th></th>\n",
       "      <th>Longitude</th>\n",
       "      <th>Latitude</th>\n",
       "      <th>sal</th>\n",
       "    </tr>\n",
       "  </thead>\n",
       "  <tbody>\n",
       "    <tr>\n",
       "      <th>count</th>\n",
       "      <td>459.000000</td>\n",
       "      <td>459.000000</td>\n",
       "      <td>459.000000</td>\n",
       "    </tr>\n",
       "    <tr>\n",
       "      <th>mean</th>\n",
       "      <td>77.536905</td>\n",
       "      <td>20.465412</td>\n",
       "      <td>4225.786492</td>\n",
       "    </tr>\n",
       "    <tr>\n",
       "      <th>std</th>\n",
       "      <td>10.484835</td>\n",
       "      <td>5.959481</td>\n",
       "      <td>1611.273979</td>\n",
       "    </tr>\n",
       "    <tr>\n",
       "      <th>min</th>\n",
       "      <td>-79.030572</td>\n",
       "      <td>-8.123729</td>\n",
       "      <td>1510.000000</td>\n",
       "    </tr>\n",
       "    <tr>\n",
       "      <th>25%</th>\n",
       "      <td>73.854454</td>\n",
       "      <td>17.360589</td>\n",
       "      <td>2827.000000</td>\n",
       "    </tr>\n",
       "    <tr>\n",
       "      <th>50%</th>\n",
       "      <td>77.121215</td>\n",
       "      <td>19.075990</td>\n",
       "      <td>4227.000000</td>\n",
       "    </tr>\n",
       "    <tr>\n",
       "      <th>75%</th>\n",
       "      <td>77.590082</td>\n",
       "      <td>28.428262</td>\n",
       "      <td>5668.000000</td>\n",
       "    </tr>\n",
       "    <tr>\n",
       "      <th>max</th>\n",
       "      <td>121.097753</td>\n",
       "      <td>30.744272</td>\n",
       "      <td>6991.000000</td>\n",
       "    </tr>\n",
       "  </tbody>\n",
       "</table>\n",
       "</div>"
      ],
      "text/plain": [
       "        Longitude    Latitude          sal\n",
       "count  459.000000  459.000000   459.000000\n",
       "mean    77.536905   20.465412  4225.786492\n",
       "std     10.484835    5.959481  1611.273979\n",
       "min    -79.030572   -8.123729  1510.000000\n",
       "25%     73.854454   17.360589  2827.000000\n",
       "50%     77.121215   19.075990  4227.000000\n",
       "75%     77.590082   28.428262  5668.000000\n",
       "max    121.097753   30.744272  6991.000000"
      ]
     },
     "execution_count": 13,
     "metadata": {},
     "output_type": "execute_result"
    }
   ],
   "source": [
    "df.describe()"
   ]
  },
  {
   "cell_type": "code",
   "execution_count": 14,
   "id": "09dbf311",
   "metadata": {},
   "outputs": [],
   "source": [
    "df.to_csv(\"Resources/clean_jobss.csv\", index=False, encoding=\"ISO-8859-1\")"
   ]
  },
  {
   "cell_type": "code",
   "execution_count": null,
   "id": "554989d0",
   "metadata": {},
   "outputs": [],
   "source": []
  }
 ],
 "metadata": {
  "kernelspec": {
   "display_name": "PythonData",
   "language": "python",
   "name": "pythondata"
  },
  "language_info": {
   "codemirror_mode": {
    "name": "ipython",
    "version": 3
   },
   "file_extension": ".py",
   "mimetype": "text/x-python",
   "name": "python",
   "nbconvert_exporter": "python",
   "pygments_lexer": "ipython3",
   "version": "3.7.7"
  }
 },
 "nbformat": 4,
 "nbformat_minor": 5
}
